{
 "cells": [
  {
   "cell_type": "code",
   "execution_count": 16,
   "metadata": {},
   "outputs": [],
   "source": [
    "from openai import OpenAI\n",
    "from dotenv import find_dotenv, load_dotenv\n",
    "import json\n",
    "\n",
    "_ = load_dotenv(find_dotenv())\n",
    "\n",
    "client = OpenAI()"
   ]
  },
  {
   "cell_type": "markdown",
   "metadata": {},
   "source": [
    "## 1. Create an Assistant"
   ]
  },
  {
   "cell_type": "code",
   "execution_count": 17,
   "metadata": {},
   "outputs": [
    {
     "data": {
      "text/plain": [
       "Assistant(id='asst_1ilSkEoLfaVokOPAJpDSbgUx', created_at=1703350061, description=None, file_ids=[], instructions='You are Javascript teacher. Write and run code to answer queries', metadata={}, model='gpt-3.5-turbo-1106', name='Javascrit Teacher', object='assistant', tools=[ToolCodeInterpreter(type='code_interpreter')])"
      ]
     },
     "execution_count": 17,
     "metadata": {},
     "output_type": "execute_result"
    }
   ],
   "source": [
    "assistant = client.beta.assistants.create(\n",
    "    name=\"Javascrit Teacher\",\n",
    "    instructions=\"You are Javascript teacher. Write and run code to answer queries\",\n",
    "    tools=[{\"type\":\"code_interpreter\"}],\n",
    "    model=\"gpt-3.5-turbo-1106\",\n",
    ")\n",
    "\n",
    "assistant # print"
   ]
  },
  {
   "cell_type": "markdown",
   "metadata": {},
   "source": [
    "## 2. Create a Thread"
   ]
  },
  {
   "cell_type": "code",
   "execution_count": 18,
   "metadata": {},
   "outputs": [
    {
     "name": "stdout",
     "output_type": "stream",
     "text": [
      "Thread(id='thread_FDGVbFrZA9c74xyoiRDtkbJs', created_at=1703350061, metadata={}, object='thread')\n"
     ]
    },
    {
     "data": {
      "text/plain": [
       "SyncCursorPage[ThreadMessage](data=[], object='list', first_id=None, last_id=None, has_more=False)"
      ]
     },
     "execution_count": 18,
     "metadata": {},
     "output_type": "execute_result"
    }
   ],
   "source": [
    "thread = client.beta.threads.create()\n",
    "\n",
    "print(thread)\n",
    "\n",
    "thread_message = client.beta.threads.messages.list(thread.id)\n",
    "\n",
    "thread_message # there is no message right now"
   ]
  },
  {
   "cell_type": "markdown",
   "metadata": {},
   "source": [
    "## 3. Add a Message to a Thread"
   ]
  },
  {
   "cell_type": "code",
   "execution_count": 19,
   "metadata": {},
   "outputs": [
    {
     "data": {
      "text/plain": [
       "ThreadMessage(id='msg_NYuj6FULrFU3hVAtFAPhewnc', assistant_id=None, content=[MessageContentText(text=Text(annotations=[], value='What are the primitive data types?'), type='text')], created_at=1703350062, file_ids=[], metadata={}, object='thread.message', role='user', run_id=None, thread_id='thread_FDGVbFrZA9c74xyoiRDtkbJs')"
      ]
     },
     "execution_count": 19,
     "metadata": {},
     "output_type": "execute_result"
    }
   ],
   "source": [
    "message = client.beta.threads.messages.create(\n",
    "    thread_id=thread.id,\n",
    "    role=\"user\",\n",
    "    content=\"What are the primitive data types?\"\n",
    ")\n",
    "\n",
    "message"
   ]
  },
  {
   "cell_type": "markdown",
   "metadata": {},
   "source": [
    "### List the Message in a Thread"
   ]
  },
  {
   "cell_type": "code",
   "execution_count": 20,
   "metadata": {},
   "outputs": [
    {
     "data": {
      "text/plain": [
       "SyncCursorPage[ThreadMessage](data=[ThreadMessage(id='msg_NYuj6FULrFU3hVAtFAPhewnc', assistant_id=None, content=[MessageContentText(text=Text(annotations=[], value='What are the primitive data types?'), type='text')], created_at=1703350062, file_ids=[], metadata={}, object='thread.message', role='user', run_id=None, thread_id='thread_FDGVbFrZA9c74xyoiRDtkbJs')], object='list', first_id='msg_NYuj6FULrFU3hVAtFAPhewnc', last_id='msg_NYuj6FULrFU3hVAtFAPhewnc', has_more=False)"
      ]
     },
     "execution_count": 20,
     "metadata": {},
     "output_type": "execute_result"
    }
   ],
   "source": [
    "thread_message = client.beta.threads.messages.list(thread.id)\n",
    "\n",
    "thread_message # now message has been appended to thread"
   ]
  },
  {
   "cell_type": "markdown",
   "metadata": {},
   "source": [
    "## 4. Run the Assistant"
   ]
  },
  {
   "cell_type": "code",
   "execution_count": 21,
   "metadata": {},
   "outputs": [
    {
     "data": {
      "text/plain": [
       "Run(id='run_wcLlKKLEMXv8QpqIp0PqvYgi', assistant_id='asst_1ilSkEoLfaVokOPAJpDSbgUx', cancelled_at=None, completed_at=None, created_at=1703350063, expires_at=1703350663, failed_at=None, file_ids=[], instructions='You are Javascript teacher. Write and run code to answer queries', last_error=None, metadata={}, model='gpt-3.5-turbo-1106', object='thread.run', required_action=None, started_at=None, status='queued', thread_id='thread_FDGVbFrZA9c74xyoiRDtkbJs', tools=[ToolAssistantToolsCode(type='code_interpreter')])"
      ]
     },
     "execution_count": 21,
     "metadata": {},
     "output_type": "execute_result"
    }
   ],
   "source": [
    "run = client.beta.threads.runs.create(\n",
    "    thread_id=thread.id,\n",
    "    assistant_id=assistant.id,\n",
    "    # instructions=\"This student concepts are weak\"\n",
    "        # this is optional, it overrides the Assistant's default instruction\n",
    ")\n",
    "\n",
    "run"
   ]
  },
  {
   "cell_type": "markdown",
   "metadata": {},
   "source": [
    "## 5. Check the Run Assistant"
   ]
  },
  {
   "cell_type": "code",
   "execution_count": 22,
   "metadata": {},
   "outputs": [
    {
     "data": {
      "text/plain": [
       "Run(id='run_wcLlKKLEMXv8QpqIp0PqvYgi', assistant_id='asst_1ilSkEoLfaVokOPAJpDSbgUx', cancelled_at=None, completed_at=None, created_at=1703350063, expires_at=1703350663, failed_at=None, file_ids=[], instructions='You are Javascript teacher. Write and run code to answer queries', last_error=None, metadata={}, model='gpt-3.5-turbo-1106', object='thread.run', required_action=None, started_at=1703350063, status='in_progress', thread_id='thread_FDGVbFrZA9c74xyoiRDtkbJs', tools=[ToolAssistantToolsCode(type='code_interpreter')])"
      ]
     },
     "execution_count": 22,
     "metadata": {},
     "output_type": "execute_result"
    }
   ],
   "source": [
    "# by default Run goes into 'queued' status\n",
    "\n",
    "run = client.beta.threads.runs.retrieve(\n",
    "    thread_id=thread.id,\n",
    "    run_id=run.id\n",
    ")\n",
    "\n",
    "run"
   ]
  },
  {
   "cell_type": "markdown",
   "metadata": {},
   "source": [
    "## 6. Display the Assistant's Response"
   ]
  },
  {
   "cell_type": "code",
   "execution_count": 27,
   "metadata": {},
   "outputs": [
    {
     "name": "stdout",
     "output_type": "stream",
     "text": [
      "SyncCursorPage[ThreadMessage](data=[ThreadMessage(id='msg_yZNCW0ibzTNTnF8E2wmzCpIj', assistant_id='asst_1ilSkEoLfaVokOPAJpDSbgUx', content=[MessageContentText(text=Text(annotations=[], value='The primitive data types in JavaScript are:\\n\\n1. Number: Represents both integer and floating-point numbers.\\n2. String: Represents a sequence of characters.\\n3. Boolean: Represents true or false values.\\n4. Undefined: Represents a variable that has been declared but has not been assigned a value.\\n5. Null: Represents an intentional absence of any object value.\\n6. Symbol (added in ECMAScript 6): Represents a unique and immutable value and may be used as the key of an Object property.\\n\\nThese primitive data types are immutable, meaning they cannot be changed.'), type='text')], created_at=1703350064, file_ids=[], metadata={}, object='thread.message', role='assistant', run_id='run_wcLlKKLEMXv8QpqIp0PqvYgi', thread_id='thread_FDGVbFrZA9c74xyoiRDtkbJs'), ThreadMessage(id='msg_NYuj6FULrFU3hVAtFAPhewnc', assistant_id=None, content=[MessageContentText(text=Text(annotations=[], value='What are the primitive data types?'), type='text')], created_at=1703350062, file_ids=[], metadata={}, object='thread.message', role='user', run_id=None, thread_id='thread_FDGVbFrZA9c74xyoiRDtkbJs')], object='list', first_id='msg_yZNCW0ibzTNTnF8E2wmzCpIj', last_id='msg_NYuj6FULrFU3hVAtFAPhewnc', has_more=False)\n",
      "[ThreadMessage(id='msg_yZNCW0ibzTNTnF8E2wmzCpIj', assistant_id='asst_1ilSkEoLfaVokOPAJpDSbgUx', content=[MessageContentText(text=Text(annotations=[], value='The primitive data types in JavaScript are:\\n\\n1. Number: Represents both integer and floating-point numbers.\\n2. String: Represents a sequence of characters.\\n3. Boolean: Represents true or false values.\\n4. Undefined: Represents a variable that has been declared but has not been assigned a value.\\n5. Null: Represents an intentional absence of any object value.\\n6. Symbol (added in ECMAScript 6): Represents a unique and immutable value and may be used as the key of an Object property.\\n\\nThese primitive data types are immutable, meaning they cannot be changed.'), type='text')], created_at=1703350064, file_ids=[], metadata={}, object='thread.message', role='assistant', run_id='run_wcLlKKLEMXv8QpqIp0PqvYgi', thread_id='thread_FDGVbFrZA9c74xyoiRDtkbJs'), ThreadMessage(id='msg_NYuj6FULrFU3hVAtFAPhewnc', assistant_id=None, content=[MessageContentText(text=Text(annotations=[], value='What are the primitive data types?'), type='text')], created_at=1703350062, file_ids=[], metadata={}, object='thread.message', role='user', run_id=None, thread_id='thread_FDGVbFrZA9c74xyoiRDtkbJs')]\n",
      "\n",
      "user: What are the primitive data types?\n",
      "assistant: The primitive data types in JavaScript are:\n",
      "\n",
      "1. Number: Represents both integer and floating-point numbers.\n",
      "2. String: Represents a sequence of characters.\n",
      "3. Boolean: Represents true or false values.\n",
      "4. Undefined: Represents a variable that has been declared but has not been assigned a value.\n",
      "5. Null: Represents an intentional absence of any object value.\n",
      "6. Symbol (added in ECMAScript 6): Represents a unique and immutable value and may be used as the key of an Object property.\n",
      "\n",
      "These primitive data types are immutable, meaning they cannot be changed.\n"
     ]
    }
   ],
   "source": [
    "messages = client.beta.threads.messages.list(\n",
    "    thread_id=thread.id\n",
    ")\n",
    "\n",
    "print(messages)\n",
    "print(messages.data)\n",
    "\n",
    "print(\"\")\n",
    "# displaying in conversation style\n",
    "for message in reversed(messages.data):\n",
    "  # revesed() because assistant message was appended and it is listed first.\n",
    "  print(message.role + \": \" + message.content[0].text.value)"
   ]
  }
 ],
 "metadata": {
  "kernelspec": {
   "display_name": "py12",
   "language": "python",
   "name": "python3"
  },
  "language_info": {
   "codemirror_mode": {
    "name": "ipython",
    "version": 3
   },
   "file_extension": ".py",
   "mimetype": "text/x-python",
   "name": "python",
   "nbconvert_exporter": "python",
   "pygments_lexer": "ipython3",
   "version": "3.12.0"
  }
 },
 "nbformat": 4,
 "nbformat_minor": 2
}
