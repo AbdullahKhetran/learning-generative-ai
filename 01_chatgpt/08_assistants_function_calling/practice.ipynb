{
 "cells": [
  {
   "cell_type": "code",
   "execution_count": null,
   "metadata": {},
   "outputs": [],
   "source": [
    "from openai import OpenAI\n",
    "from dotenv import find_dotenv, load_dotenv\n",
    "\n",
    "_ = load_dotenv(find_dotenv())\n",
    "\n",
    "client = OpenAI()"
   ]
  },
  {
   "cell_type": "markdown",
   "metadata": {},
   "source": [
    "### Steps\n",
    "\n",
    "#### 1. Define `Functions`\n",
    "#### 2. Create an `Assitant` and register Functions\n",
    "#### 3. Create a `Thread`\n",
    "#### 4. Add a `Message` to the Thread\n",
    "#### 5. `Run` the Assistant\n",
    "#### 6. Polling for updates and `Calling` Functions"
   ]
  }
 ],
 "metadata": {
  "language_info": {
   "name": "python"
  }
 },
 "nbformat": 4,
 "nbformat_minor": 2
}
