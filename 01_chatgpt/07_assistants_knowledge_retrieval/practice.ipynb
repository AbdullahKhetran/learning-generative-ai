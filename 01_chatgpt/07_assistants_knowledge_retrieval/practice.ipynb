{
 "cells": [
  {
   "cell_type": "code",
   "execution_count": 2,
   "metadata": {},
   "outputs": [],
   "source": [
    "from openai import OpenAI\n",
    "from dotenv import find_dotenv, load_dotenv\n",
    "\n",
    "_ = load_dotenv(find_dotenv())\n",
    "\n",
    "client = OpenAI()"
   ]
  },
  {
   "cell_type": "markdown",
   "metadata": {},
   "source": [
    "## Upload file for retrieval"
   ]
  },
  {
   "cell_type": "code",
   "execution_count": 17,
   "metadata": {},
   "outputs": [
    {
     "data": {
      "text/plain": [
       "{'id': 'file-ih0PSuryOrEiVN4X5jZq6TOv',\n",
       " 'bytes': 48802,\n",
       " 'created_at': 1703524662,\n",
       " 'filename': 'zia_profile.pdf',\n",
       " 'object': 'file',\n",
       " 'purpose': 'assistants',\n",
       " 'status': 'processed',\n",
       " 'status_details': None}"
      ]
     },
     "execution_count": 17,
     "metadata": {},
     "output_type": "execute_result"
    }
   ],
   "source": [
    "file = client.files.create(\n",
    "  file=open(\"zia_profile.pdf\", \"rb\"),\n",
    "  purpose=\"assistants\"\n",
    ")\n",
    "\n",
    "dict(file)"
   ]
  },
  {
   "cell_type": "markdown",
   "metadata": {},
   "source": [
    "## Enable Retrieval in Assistant"
   ]
  },
  {
   "cell_type": "code",
   "execution_count": 18,
   "metadata": {},
   "outputs": [
    {
     "data": {
      "text/plain": [
       "{'id': 'asst_8C3QlObReJVGDnRZ1NaUZCev',\n",
       " 'created_at': 1703524665,\n",
       " 'description': None,\n",
       " 'file_ids': ['file-ih0PSuryOrEiVN4X5jZq6TOv'],\n",
       " 'instructions': 'You are a customer support chatbot. Use your knowledge base to best respond to customer queries.',\n",
       " 'metadata': {},\n",
       " 'model': 'gpt-3.5-turbo-1106',\n",
       " 'name': None,\n",
       " 'object': 'assistant',\n",
       " 'tools': [ToolRetrieval(type='retrieval')]}"
      ]
     },
     "execution_count": 18,
     "metadata": {},
     "output_type": "execute_result"
    }
   ],
   "source": [
    "# Attach file to assistant\n",
    "assistant = client.beta.assistants.create(\n",
    "  instructions=\"You are a customer support chatbot. Use your knowledge base to best respond to customer queries.\",\n",
    "  model=\"gpt-3.5-turbo-1106\",\n",
    "  tools=[{\"type\": \"retrieval\"}], # enable retrieval tool\n",
    "  file_ids=[file.id] # attach file id\n",
    ")\n",
    "\n",
    "dict(assistant)"
   ]
  },
  {
   "cell_type": "markdown",
   "metadata": {},
   "source": [
    "## Thread and Message"
   ]
  },
  {
   "cell_type": "code",
   "execution_count": 19,
   "metadata": {},
   "outputs": [
    {
     "data": {
      "text/plain": [
       "{'id': 'msg_XCxn9YPjhAFfV0wW4vkdyzNd',\n",
       " 'assistant_id': None,\n",
       " 'content': [MessageContentText(text=Text(annotations=[], value='What is the date of birth of Zia?'), type='text')],\n",
       " 'created_at': 1703524688,\n",
       " 'file_ids': [],\n",
       " 'metadata': {},\n",
       " 'object': 'thread.message',\n",
       " 'role': 'user',\n",
       " 'run_id': None,\n",
       " 'thread_id': 'thread_niFbXQXEuJxPAANsjxSJXzKk'}"
      ]
     },
     "execution_count": 19,
     "metadata": {},
     "output_type": "execute_result"
    }
   ],
   "source": [
    "# Create a thread\n",
    "thread = client.beta.threads.create()\n",
    "\n",
    "# Attach a message\n",
    "message = client.beta.threads.messages.create(\n",
    "    thread_id=thread.id,\n",
    "    role=\"user\",\n",
    "    content=\"What is the date of birth of Zia?\"\n",
    ")\n",
    "\n",
    "dict(message)\n"
   ]
  },
  {
   "cell_type": "markdown",
   "metadata": {},
   "source": [
    "## Run"
   ]
  },
  {
   "cell_type": "code",
   "execution_count": 12,
   "metadata": {},
   "outputs": [
    {
     "data": {
      "text/plain": [
       "{'id': 'run_s50aAZC3KSkOaEvXawC3z1KS',\n",
       " 'assistant_id': 'asst_6B9XYalRKIWXXWjpmFsIIiH1',\n",
       " 'cancelled_at': None,\n",
       " 'completed_at': None,\n",
       " 'created_at': 1703524506,\n",
       " 'expires_at': 1703525106,\n",
       " 'failed_at': None,\n",
       " 'file_ids': ['file-pk7HMOhF3x4LQCWHWnA08fz1'],\n",
       " 'instructions': 'You are a customer support chatbot. Use your knowledge base to best respond to customer queries.',\n",
       " 'last_error': None,\n",
       " 'metadata': {},\n",
       " 'model': 'gpt-3.5-turbo-1106',\n",
       " 'object': 'thread.run',\n",
       " 'required_action': None,\n",
       " 'started_at': None,\n",
       " 'status': 'queued',\n",
       " 'thread_id': 'thread_1lstmo59ECaxNsaicn2zlDsu',\n",
       " 'tools': [ToolAssistantToolsRetrieval(type='retrieval')]}"
      ]
     },
     "execution_count": 12,
     "metadata": {},
     "output_type": "execute_result"
    }
   ],
   "source": [
    "run = client.beta.threads.runs.create(\n",
    "    thread_id=thread.id,\n",
    "    assistant_id=assistant.id,\n",
    ")\n",
    "\n",
    "dict(run)"
   ]
  },
  {
   "cell_type": "markdown",
   "metadata": {},
   "source": [
    "## Response"
   ]
  },
  {
   "cell_type": "code",
   "execution_count": 13,
   "metadata": {},
   "outputs": [
    {
     "name": "stdout",
     "output_type": "stream",
     "text": [
      "SyncCursorPage[ThreadMessage](data=[ThreadMessage(id='msg_zRvM9RxZT563vESiMwMvleip', assistant_id='asst_6B9XYalRKIWXXWjpmFsIIiH1', content=[MessageContentText(text=Text(annotations=[TextAnnotationFileCitation(end_index=46, file_citation=TextAnnotationFileCitationFileCitation(file_id='file-pk7HMOhF3x4LQCWHWnA08fz1', quote='Zia Khan was born in Sialkot in 1961 in an army garrison. His father the late Lt'), start_index=36, text='【7†source】', type='file_citation')], value='Zia Khan was born in Sialkot in 1961【7†source】.'), type='text')], created_at=1703524510, file_ids=[], metadata={}, object='thread.message', role='assistant', run_id='run_s50aAZC3KSkOaEvXawC3z1KS', thread_id='thread_1lstmo59ECaxNsaicn2zlDsu'), ThreadMessage(id='msg_mOCMfgpKfLFcGA5Id7CnTKyb', assistant_id=None, content=[MessageContentText(text=Text(annotations=[], value='What is the date of birth of Zia?'), type='text')], created_at=1703524490, file_ids=[], metadata={}, object='thread.message', role='user', run_id=None, thread_id='thread_1lstmo59ECaxNsaicn2zlDsu')], object='list', first_id='msg_zRvM9RxZT563vESiMwMvleip', last_id='msg_mOCMfgpKfLFcGA5Id7CnTKyb', has_more=False)\n",
      "\n",
      "user: What is the date of birth of Zia?\n",
      "assistant: Zia Khan was born in Sialkot in 1961【7†source】.\n"
     ]
    }
   ],
   "source": [
    "messages = client.beta.threads.messages.list(\n",
    "    thread_id=thread.id\n",
    ")\n",
    "print(messages)\n",
    "\n",
    "print(\"\")\n",
    "# displaying in conversation style\n",
    "for message in reversed(messages.data):\n",
    "  # revesed() because assistant message was appended and it is listed first.\n",
    "  print(message.role + \": \" + message.content[0].text.value)\n"
   ]
  },
  {
   "cell_type": "markdown",
   "metadata": {},
   "source": [
    "## Deleting files"
   ]
  },
  {
   "cell_type": "code",
   "execution_count": null,
   "metadata": {},
   "outputs": [],
   "source": [
    "file_deletion_status = client.beta.assistants.files.delete(\n",
    "    assistant_id=assistant.id,\n",
    "    file_id=file.id\n",
    ")\n",
    "\n",
    "# Detaching the file from the assistant removes the file from the retrieval index and means you will no longer be charged for the storage of the indexed file."
   ]
  }
 ],
 "metadata": {
  "kernelspec": {
   "display_name": "py12",
   "language": "python",
   "name": "python3"
  },
  "language_info": {
   "codemirror_mode": {
    "name": "ipython",
    "version": 3
   },
   "file_extension": ".py",
   "mimetype": "text/x-python",
   "name": "python",
   "nbconvert_exporter": "python",
   "pygments_lexer": "ipython3",
   "version": "3.12.0"
  }
 },
 "nbformat": 4,
 "nbformat_minor": 2
}
