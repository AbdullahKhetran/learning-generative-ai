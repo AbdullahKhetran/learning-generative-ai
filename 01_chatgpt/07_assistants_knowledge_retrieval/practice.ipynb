{
 "cells": [
  {
   "cell_type": "code",
   "execution_count": 4,
   "metadata": {},
   "outputs": [],
   "source": [
    "from openai import OpenAI\n",
    "from dotenv import find_dotenv, load_dotenv\n",
    "\n",
    "_ = load_dotenv(find_dotenv())\n",
    "\n",
    "client = OpenAI()"
   ]
  },
  {
   "cell_type": "markdown",
   "metadata": {},
   "source": [
    "## Upload file for retrieval"
   ]
  },
  {
   "cell_type": "code",
   "execution_count": 7,
   "metadata": {},
   "outputs": [
    {
     "name": "stdout",
     "output_type": "stream",
     "text": [
      "FileObject(id='file-ghDJJcvDBXSoBMcZTtKSNp6Q', bytes=48802, created_at=1703437236, filename='zia_profile.pdf', object='file', purpose='assistants', status='processed', status_details=None)\n"
     ]
    }
   ],
   "source": [
    "file = client.files.create(\n",
    "  file=open(\"zia_profile.pdf\", \"rb\"),\n",
    "  purpose=\"assistants\"\n",
    ")\n",
    "print(file)\n",
    "\n",
    "# Attach file to assistant\n",
    "assistant = client.beta.assistants.create(\n",
    "  instructions=\"You are a customer support chatbot. Use your knowledge base to best respond to customer queries.\",\n",
    "  model=\"gpt-3.5-turbo-1106\",\n",
    "  tools=[{\"type\": \"retrieval\"}], # enable retrieval tool\n",
    "  file_ids=[file.id] # attach file id\n",
    ")"
   ]
  },
  {
   "cell_type": "markdown",
   "metadata": {},
   "source": [
    "## Thread and Message"
   ]
  },
  {
   "cell_type": "code",
   "execution_count": 8,
   "metadata": {},
   "outputs": [],
   "source": [
    "# Create a thread\n",
    "thread = client.beta.threads.create()\n",
    "\n",
    "# Attach a message\n",
    "message = client.beta.threads.messages.create(\n",
    "    thread_id=thread.id,\n",
    "    role=\"user\",\n",
    "    content=\"What is the date of birth of Zia?\"\n",
    ")"
   ]
  },
  {
   "cell_type": "markdown",
   "metadata": {},
   "source": [
    "## Run"
   ]
  },
  {
   "cell_type": "code",
   "execution_count": 9,
   "metadata": {},
   "outputs": [],
   "source": [
    "run = client.beta.threads.runs.create(\n",
    "    thread_id=thread.id,\n",
    "    assistant_id=assistant.id,\n",
    ")"
   ]
  },
  {
   "cell_type": "markdown",
   "metadata": {},
   "source": [
    "## Response"
   ]
  },
  {
   "cell_type": "code",
   "execution_count": 11,
   "metadata": {},
   "outputs": [
    {
     "name": "stdout",
     "output_type": "stream",
     "text": [
      "SyncCursorPage[ThreadMessage](data=[ThreadMessage(id='msg_TlGkswtTNxnGlxCPIGmsE36W', assistant_id='asst_NdsE0SxIee9YDcgVeTBhXdIq', content=[MessageContentText(text=Text(annotations=[TextAnnotationFileCitation(end_index=46, file_citation=TextAnnotationFileCitationFileCitation(file_id='file-ghDJJcvDBXSoBMcZTtKSNp6Q', quote='Zia Khan was born in Sialkot in 1961 in an army garrison'), start_index=36, text='【7†source】', type='file_citation')], value='Zia Khan was born in Sialkot in 1961【7†source】. Therefore, his date of birth is in 1961.'), type='text')], created_at=1703437243, file_ids=[], metadata={}, object='thread.message', role='assistant', run_id='run_ACi0E299WEK7Kc7yJqKdqx0t', thread_id='thread_9k9jLJ28qhLxfbblKLIvusxM'), ThreadMessage(id='msg_k7XAthp5NleEsl9UIvEDpBeZ', assistant_id=None, content=[MessageContentText(text=Text(annotations=[], value='What is the date of birth of Zia?'), type='text')], created_at=1703437239, file_ids=[], metadata={}, object='thread.message', role='user', run_id=None, thread_id='thread_9k9jLJ28qhLxfbblKLIvusxM')], object='list', first_id='msg_TlGkswtTNxnGlxCPIGmsE36W', last_id='msg_k7XAthp5NleEsl9UIvEDpBeZ', has_more=False)\n",
      "\n",
      "user: What is the date of birth of Zia?\n",
      "assistant: Zia Khan was born in Sialkot in 1961【7†source】. Therefore, his date of birth is in 1961.\n"
     ]
    }
   ],
   "source": [
    "messages = client.beta.threads.messages.list(\n",
    "    thread_id=thread.id\n",
    ")\n",
    "print(messages)\n",
    "\n",
    "print(\"\")\n",
    "# displaying in conversation style\n",
    "for message in reversed(messages.data):\n",
    "  # revesed() because assistant message was appended and it is listed first.\n",
    "  print(message.role + \": \" + message.content[0].text.value)"
   ]
  },
  {
   "cell_type": "markdown",
   "metadata": {},
   "source": [
    "## Deleting files"
   ]
  },
  {
   "cell_type": "code",
   "execution_count": null,
   "metadata": {},
   "outputs": [],
   "source": [
    "file_deletion_status = client.beta.assistants.files.delete(\n",
    "    assistant_id=assistant.id,\n",
    "    file_id=file.id\n",
    ")\n",
    "\n",
    "# Detaching the file from the assistant removes the file from the retrieval index and means you will no longer be charged for the storage of the indexed file."
   ]
  }
 ],
 "metadata": {
  "kernelspec": {
   "display_name": "py12",
   "language": "python",
   "name": "python3"
  },
  "language_info": {
   "codemirror_mode": {
    "name": "ipython",
    "version": 3
   },
   "file_extension": ".py",
   "mimetype": "text/x-python",
   "name": "python",
   "nbconvert_exporter": "python",
   "pygments_lexer": "ipython3",
   "version": "3.12.0"
  }
 },
 "nbformat": 4,
 "nbformat_minor": 2
}
