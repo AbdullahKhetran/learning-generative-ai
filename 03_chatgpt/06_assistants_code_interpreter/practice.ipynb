{
 "cells": [
  {
   "cell_type": "code",
   "execution_count": 2,
   "metadata": {},
   "outputs": [],
   "source": [
    "from openai import OpenAI\n",
    "from dotenv import find_dotenv, load_dotenv\n",
    "import json\n",
    "\n",
    "_ = load_dotenv(find_dotenv())\n",
    "\n",
    "client = OpenAI()"
   ]
  },
  {
   "cell_type": "markdown",
   "metadata": {},
   "source": [
    "## 1. Create an Assistant"
   ]
  },
  {
   "cell_type": "code",
   "execution_count": 3,
   "metadata": {},
   "outputs": [
    {
     "data": {
      "text/plain": [
       "{'id': 'asst_4oJAEqrRMp9CcqJaLC4bNbTw',\n",
       " 'created_at': 1703524950,\n",
       " 'description': None,\n",
       " 'file_ids': [],\n",
       " 'instructions': 'You are Javascript teacher. Write and run code to answer queries',\n",
       " 'metadata': {},\n",
       " 'model': 'gpt-3.5-turbo-1106',\n",
       " 'name': 'Javascrit Teacher',\n",
       " 'object': 'assistant',\n",
       " 'tools': [ToolCodeInterpreter(type='code_interpreter')]}"
      ]
     },
     "execution_count": 3,
     "metadata": {},
     "output_type": "execute_result"
    }
   ],
   "source": [
    "assistant = client.beta.assistants.create(\n",
    "    name=\"Javascrit Teacher\",\n",
    "    instructions=\"You are Javascript teacher. Write and run code to answer queries\",\n",
    "    tools=[{\"type\":\"code_interpreter\"}],\n",
    "    model=\"gpt-3.5-turbo-1106\",\n",
    ")\n",
    "\n",
    "dict(assistant)"
   ]
  },
  {
   "cell_type": "markdown",
   "metadata": {},
   "source": [
    "## 2. Create a Thread"
   ]
  },
  {
   "cell_type": "code",
   "execution_count": 4,
   "metadata": {},
   "outputs": [
    {
     "name": "stdout",
     "output_type": "stream",
     "text": [
      "Thread(id='thread_d5gvYoSJtfsSjWMnyheLgzYo', created_at=1703524950, metadata={}, object='thread')\n"
     ]
    },
    {
     "data": {
      "text/plain": [
       "{}"
      ]
     },
     "execution_count": 4,
     "metadata": {},
     "output_type": "execute_result"
    }
   ],
   "source": [
    "thread = client.beta.threads.create()\n",
    "\n",
    "print(thread)\n",
    "\n",
    "thread_message = client.beta.threads.messages.list(thread.id)\n",
    "dict(thread_message)  # there is no message right now"
   ]
  },
  {
   "cell_type": "markdown",
   "metadata": {},
   "source": [
    "## 3. Add a Message to a Thread"
   ]
  },
  {
   "cell_type": "code",
   "execution_count": 5,
   "metadata": {},
   "outputs": [
    {
     "data": {
      "text/plain": [
       "{'id': 'msg_VQieOiXFFJnYn9KIOJLuhh9Y',\n",
       " 'assistant_id': None,\n",
       " 'content': [MessageContentText(text=Text(annotations=[], value='What are the primitive data types?'), type='text')],\n",
       " 'created_at': 1703524951,\n",
       " 'file_ids': [],\n",
       " 'metadata': {},\n",
       " 'object': 'thread.message',\n",
       " 'role': 'user',\n",
       " 'run_id': None,\n",
       " 'thread_id': 'thread_d5gvYoSJtfsSjWMnyheLgzYo'}"
      ]
     },
     "execution_count": 5,
     "metadata": {},
     "output_type": "execute_result"
    }
   ],
   "source": [
    "message = client.beta.threads.messages.create(\n",
    "    thread_id=thread.id,\n",
    "    role=\"user\",\n",
    "    content=\"What are the primitive data types?\"\n",
    ")\n",
    "\n",
    "dict(message)"
   ]
  },
  {
   "cell_type": "markdown",
   "metadata": {},
   "source": [
    "### List the Message in a Thread"
   ]
  },
  {
   "cell_type": "code",
   "execution_count": 10,
   "metadata": {},
   "outputs": [
    {
     "name": "stdout",
     "output_type": "stream",
     "text": [
      "SyncCursorPage[ThreadMessage](data=[ThreadMessage(id='msg_VQieOiXFFJnYn9KIOJLuhh9Y', assistant_id=None, content=[MessageContentText(text=Text(annotations=[], value='What are the primitive data types?'), type='text')], created_at=1703524951, file_ids=[], metadata={}, object='thread.message', role='user', run_id=None, thread_id='thread_d5gvYoSJtfsSjWMnyheLgzYo')], object='list', first_id='msg_VQieOiXFFJnYn9KIOJLuhh9Y', last_id='msg_VQieOiXFFJnYn9KIOJLuhh9Y', has_more=False)\n"
     ]
    }
   ],
   "source": [
    "thread_message = client.beta.threads.messages.list(thread.id)\n",
    "\n",
    "print(thread_message) # now message has been appended to thread\n"
   ]
  },
  {
   "cell_type": "markdown",
   "metadata": {},
   "source": [
    "## 4. Run the Assistant"
   ]
  },
  {
   "cell_type": "code",
   "execution_count": 11,
   "metadata": {},
   "outputs": [
    {
     "data": {
      "text/plain": [
       "{'id': 'run_KhU93Prv2hAdH29jToPBkDru',\n",
       " 'assistant_id': 'asst_4oJAEqrRMp9CcqJaLC4bNbTw',\n",
       " 'cancelled_at': None,\n",
       " 'completed_at': None,\n",
       " 'created_at': 1703525030,\n",
       " 'expires_at': 1703525630,\n",
       " 'failed_at': None,\n",
       " 'file_ids': [],\n",
       " 'instructions': 'You are Javascript teacher. Write and run code to answer queries',\n",
       " 'last_error': None,\n",
       " 'metadata': {},\n",
       " 'model': 'gpt-3.5-turbo-1106',\n",
       " 'object': 'thread.run',\n",
       " 'required_action': None,\n",
       " 'started_at': None,\n",
       " 'status': 'queued',\n",
       " 'thread_id': 'thread_d5gvYoSJtfsSjWMnyheLgzYo',\n",
       " 'tools': [ToolAssistantToolsCode(type='code_interpreter')]}"
      ]
     },
     "execution_count": 11,
     "metadata": {},
     "output_type": "execute_result"
    }
   ],
   "source": [
    "run = client.beta.threads.runs.create(\n",
    "    thread_id=thread.id,\n",
    "    assistant_id=assistant.id,\n",
    "    # instructions=\"This student concepts are weak\"\n",
    "        # this is optional, it overrides the Assistant's default instruction\n",
    ")\n",
    "\n",
    "dict(run)"
   ]
  },
  {
   "cell_type": "markdown",
   "metadata": {},
   "source": [
    "## 5. Check the Run Assistant"
   ]
  },
  {
   "cell_type": "code",
   "execution_count": 12,
   "metadata": {},
   "outputs": [
    {
     "data": {
      "text/plain": [
       "{'id': 'run_KhU93Prv2hAdH29jToPBkDru',\n",
       " 'assistant_id': 'asst_4oJAEqrRMp9CcqJaLC4bNbTw',\n",
       " 'cancelled_at': None,\n",
       " 'completed_at': None,\n",
       " 'created_at': 1703525030,\n",
       " 'expires_at': 1703525630,\n",
       " 'failed_at': None,\n",
       " 'file_ids': [],\n",
       " 'instructions': 'You are Javascript teacher. Write and run code to answer queries',\n",
       " 'last_error': None,\n",
       " 'metadata': {},\n",
       " 'model': 'gpt-3.5-turbo-1106',\n",
       " 'object': 'thread.run',\n",
       " 'required_action': None,\n",
       " 'started_at': 1703525031,\n",
       " 'status': 'in_progress',\n",
       " 'thread_id': 'thread_d5gvYoSJtfsSjWMnyheLgzYo',\n",
       " 'tools': [ToolAssistantToolsCode(type='code_interpreter')]}"
      ]
     },
     "execution_count": 12,
     "metadata": {},
     "output_type": "execute_result"
    }
   ],
   "source": [
    "# by default Run goes into 'queued' status\n",
    "\n",
    "run = client.beta.threads.runs.retrieve(\n",
    "    thread_id=thread.id,\n",
    "    run_id=run.id\n",
    ")\n",
    "\n",
    "dict(run)"
   ]
  },
  {
   "cell_type": "markdown",
   "metadata": {},
   "source": [
    "## 6. Display the Assistant's Response"
   ]
  },
  {
   "cell_type": "code",
   "execution_count": 13,
   "metadata": {},
   "outputs": [
    {
     "name": "stdout",
     "output_type": "stream",
     "text": [
      "SyncCursorPage[ThreadMessage](data=[ThreadMessage(id='msg_VQieOiXFFJnYn9KIOJLuhh9Y', assistant_id=None, content=[MessageContentText(text=Text(annotations=[], value='What are the primitive data types?'), type='text')], created_at=1703524951, file_ids=[], metadata={}, object='thread.message', role='user', run_id=None, thread_id='thread_d5gvYoSJtfsSjWMnyheLgzYo')], object='list', first_id='msg_VQieOiXFFJnYn9KIOJLuhh9Y', last_id='msg_VQieOiXFFJnYn9KIOJLuhh9Y', has_more=False)\n",
      "[ThreadMessage(id='msg_VQieOiXFFJnYn9KIOJLuhh9Y', assistant_id=None, content=[MessageContentText(text=Text(annotations=[], value='What are the primitive data types?'), type='text')], created_at=1703524951, file_ids=[], metadata={}, object='thread.message', role='user', run_id=None, thread_id='thread_d5gvYoSJtfsSjWMnyheLgzYo')]\n",
      "\n",
      "user: What are the primitive data types?\n"
     ]
    }
   ],
   "source": [
    "messages = client.beta.threads.messages.list(\n",
    "    thread_id=thread.id\n",
    ")\n",
    "\n",
    "print(messages)\n",
    "print(messages.data)\n",
    "\n",
    "print(\"\")\n",
    "# displaying in conversation style\n",
    "for message in reversed(messages.data):\n",
    "  # revesed() because assistant message was appended and it is listed first.\n",
    "  print(message.role + \": \" + message.content[0].text.value)"
   ]
  }
 ],
 "metadata": {
  "kernelspec": {
   "display_name": "py12",
   "language": "python",
   "name": "python3"
  },
  "language_info": {
   "codemirror_mode": {
    "name": "ipython",
    "version": 3
   },
   "file_extension": ".py",
   "mimetype": "text/x-python",
   "name": "python",
   "nbconvert_exporter": "python",
   "pygments_lexer": "ipython3",
   "version": "3.12.0"
  }
 },
 "nbformat": 4,
 "nbformat_minor": 2
}
