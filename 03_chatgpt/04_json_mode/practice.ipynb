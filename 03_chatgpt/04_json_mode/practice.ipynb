{
 "cells": [
  {
   "cell_type": "code",
   "execution_count": 2,
   "metadata": {},
   "outputs": [],
   "source": [
    "from dotenv import load_dotenv, find_dotenv\n",
    "from openai import OpenAI\n",
    "\n",
    "_ = load_dotenv(find_dotenv())\n",
    "\n",
    "client = OpenAI()"
   ]
  },
  {
   "cell_type": "code",
   "execution_count": 8,
   "metadata": {},
   "outputs": [
    {
     "name": "stdout",
     "output_type": "stream",
     "text": [
      "{\n",
      "  \"months\": [\n",
      "    \"January\",\n",
      "    \"March\",\n",
      "    \"May\",\n",
      "    \"July\",\n",
      "    \"August\",\n",
      "    \"October\",\n",
      "    \"December\"\n",
      "  ]\n",
      "}\n"
     ]
    }
   ],
   "source": [
    "response = client.chat.completions.create(\n",
    "    model = \"gpt-3.5-turbo-1106\",\n",
    "    messages = [\n",
    "        {\"role\": \"system\", \"content\": \"You are a helpful assistant designed to output json\"},\n",
    "        {\"role\": \"user\", \"content\": \"List of months that have 31 days\"}\n",
    "    ],\n",
    "    response_format = {\"type\": \"json_object\"} # json output\n",
    ")\n",
    "print(response.choices[0].message.content)"
   ]
  },
  {
   "cell_type": "code",
   "execution_count": 4,
   "metadata": {},
   "outputs": [
    {
     "name": "stdout",
     "output_type": "stream",
     "text": [
      "{'months': ['April', 'June', 'September', 'November']}\n"
     ]
    }
   ],
   "source": [
    "import json\n",
    "\n",
    "sample_data = \"\"\"{\n",
    "   \"months\": [\n",
    "      \"April\",\n",
    "      \"June\",\n",
    "      \"September\",\n",
    "      \"November\"\n",
    "   ]\n",
    "}\"\"\"\n",
    "\n",
    "obj = json.loads(sample_data)\n",
    "\n",
    "print(obj)\n"
   ]
  }
 ],
 "metadata": {
  "kernelspec": {
   "display_name": "py12",
   "language": "python",
   "name": "python3"
  },
  "language_info": {
   "codemirror_mode": {
    "name": "ipython",
    "version": 3
   },
   "file_extension": ".py",
   "mimetype": "text/x-python",
   "name": "python",
   "nbconvert_exporter": "python",
   "pygments_lexer": "ipython3",
   "version": "3.12.0"
  }
 },
 "nbformat": 4,
 "nbformat_minor": 2
}
